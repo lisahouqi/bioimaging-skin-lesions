{
 "cells": [
  {
   "cell_type": "code",
   "execution_count": 1,
   "metadata": {},
   "outputs": [],
   "source": [
    "from skimage.io import imread\n",
    "import matplotlib.pyplot as plt\n",
    "import pandas as pd\n",
    "import os"
   ]
  },
  {
   "cell_type": "code",
   "execution_count": 2,
   "metadata": {},
   "outputs": [
    {
     "data": {
      "text/plain": [
       "['akiec', '.DS_Store', 'df', 'bkl', 'vasc', 'nv', 'bcc', 'mel']"
      ]
     },
     "execution_count": 2,
     "metadata": {},
     "output_type": "execute_result"
    }
   ],
   "source": [
    "os.listdir('/Users/qihou/HAM10000_train')"
   ]
  },
  {
   "cell_type": "code",
   "execution_count": 3,
   "metadata": {},
   "outputs": [
    {
     "data": {
      "text/plain": [
       "['akiec', '.DS_Store', 'df', 'bkl', 'vasc', 'nv', 'bcc', 'mel']"
      ]
     },
     "execution_count": 3,
     "metadata": {},
     "output_type": "execute_result"
    }
   ],
   "source": [
    "os.listdir('/Users/qihou/HAM10000_test')"
   ]
  },
  {
   "cell_type": "code",
   "execution_count": 4,
   "metadata": {},
   "outputs": [],
   "source": [
    "train_dir = '/Users/qihou/HAM10000_train'\n",
    "test_dir = '/Users/qihou/HAM10000_test'"
   ]
  },
  {
   "cell_type": "code",
   "execution_count": 5,
   "metadata": {},
   "outputs": [],
   "source": [
    "import tensorflow as tf\n",
    "from tensorflow.keras.preprocessing.image import ImageDataGenerator"
   ]
  },
  {
   "cell_type": "code",
   "execution_count": 6,
   "metadata": {},
   "outputs": [
    {
     "name": "stdout",
     "output_type": "stream",
     "text": [
      "Found 8012 images belonging to 7 classes.\n",
      "Found 2003 images belonging to 7 classes.\n"
     ]
    }
   ],
   "source": [
    "train_datagen = ImageDataGenerator(rescale = 1/255) \n",
    "test_datagen = ImageDataGenerator(rescale = 1/255)\n",
    "\n",
    "train_gen = train_datagen.flow_from_directory(train_dir, batch_size=6)\n",
    "test_gen = test_datagen.flow_from_directory(test_dir, batch_size=6)"
   ]
  },
  {
   "cell_type": "code",
   "execution_count": 7,
   "metadata": {},
   "outputs": [
    {
     "data": {
      "text/plain": [
       "((6, 256, 256, 3), (6, 7))"
      ]
     },
     "execution_count": 7,
     "metadata": {},
     "output_type": "execute_result"
    }
   ],
   "source": [
    "x, y = next(train_gen)\n",
    "x.shape, y.shape"
   ]
  },
  {
   "cell_type": "code",
   "execution_count": 8,
   "metadata": {},
   "outputs": [
    {
     "data": {
      "text/plain": [
       "{'akiec': 0, 'bcc': 1, 'bkl': 2, 'df': 3, 'mel': 4, 'nv': 5, 'vasc': 6}"
      ]
     },
     "execution_count": 8,
     "metadata": {},
     "output_type": "execute_result"
    }
   ],
   "source": [
    "train_gen.class_indices"
   ]
  },
  {
   "cell_type": "code",
   "execution_count": 9,
   "metadata": {},
   "outputs": [],
   "source": [
    "df = pd.read_csv('/Users/qihou/HAM10000_metadata.csv')"
   ]
  },
  {
   "cell_type": "code",
   "execution_count": 10,
   "metadata": {
    "scrolled": true
   },
   "outputs": [
    {
     "data": {
      "text/html": [
       "<div>\n",
       "<style scoped>\n",
       "    .dataframe tbody tr th:only-of-type {\n",
       "        vertical-align: middle;\n",
       "    }\n",
       "\n",
       "    .dataframe tbody tr th {\n",
       "        vertical-align: top;\n",
       "    }\n",
       "\n",
       "    .dataframe thead th {\n",
       "        text-align: right;\n",
       "    }\n",
       "</style>\n",
       "<table border=\"1\" class=\"dataframe\">\n",
       "  <thead>\n",
       "    <tr style=\"text-align: right;\">\n",
       "      <th></th>\n",
       "      <th>lesion_id</th>\n",
       "      <th>image_id</th>\n",
       "      <th>dx</th>\n",
       "      <th>dx_type</th>\n",
       "      <th>age</th>\n",
       "      <th>sex</th>\n",
       "      <th>localization</th>\n",
       "    </tr>\n",
       "  </thead>\n",
       "  <tbody>\n",
       "    <tr>\n",
       "      <th>0</th>\n",
       "      <td>HAM_0000118</td>\n",
       "      <td>ISIC_0027419</td>\n",
       "      <td>bkl</td>\n",
       "      <td>histo</td>\n",
       "      <td>80.0</td>\n",
       "      <td>male</td>\n",
       "      <td>scalp</td>\n",
       "    </tr>\n",
       "    <tr>\n",
       "      <th>1</th>\n",
       "      <td>HAM_0000118</td>\n",
       "      <td>ISIC_0025030</td>\n",
       "      <td>bkl</td>\n",
       "      <td>histo</td>\n",
       "      <td>80.0</td>\n",
       "      <td>male</td>\n",
       "      <td>scalp</td>\n",
       "    </tr>\n",
       "    <tr>\n",
       "      <th>2</th>\n",
       "      <td>HAM_0002730</td>\n",
       "      <td>ISIC_0026769</td>\n",
       "      <td>bkl</td>\n",
       "      <td>histo</td>\n",
       "      <td>80.0</td>\n",
       "      <td>male</td>\n",
       "      <td>scalp</td>\n",
       "    </tr>\n",
       "    <tr>\n",
       "      <th>3</th>\n",
       "      <td>HAM_0002730</td>\n",
       "      <td>ISIC_0025661</td>\n",
       "      <td>bkl</td>\n",
       "      <td>histo</td>\n",
       "      <td>80.0</td>\n",
       "      <td>male</td>\n",
       "      <td>scalp</td>\n",
       "    </tr>\n",
       "    <tr>\n",
       "      <th>4</th>\n",
       "      <td>HAM_0001466</td>\n",
       "      <td>ISIC_0031633</td>\n",
       "      <td>bkl</td>\n",
       "      <td>histo</td>\n",
       "      <td>75.0</td>\n",
       "      <td>male</td>\n",
       "      <td>ear</td>\n",
       "    </tr>\n",
       "  </tbody>\n",
       "</table>\n",
       "</div>"
      ],
      "text/plain": [
       "     lesion_id      image_id   dx dx_type   age   sex localization\n",
       "0  HAM_0000118  ISIC_0027419  bkl   histo  80.0  male        scalp\n",
       "1  HAM_0000118  ISIC_0025030  bkl   histo  80.0  male        scalp\n",
       "2  HAM_0002730  ISIC_0026769  bkl   histo  80.0  male        scalp\n",
       "3  HAM_0002730  ISIC_0025661  bkl   histo  80.0  male        scalp\n",
       "4  HAM_0001466  ISIC_0031633  bkl   histo  75.0  male          ear"
      ]
     },
     "execution_count": 10,
     "metadata": {},
     "output_type": "execute_result"
    }
   ],
   "source": [
    "df.head()"
   ]
  },
  {
   "cell_type": "code",
   "execution_count": 11,
   "metadata": {},
   "outputs": [],
   "source": [
    "#import keras\n",
    "from tensorflow.keras import Model\n",
    "from tensorflow.keras.layers import Dense, Conv2D, MaxPool2D, Flatten, Input, Dropout\n",
    "from tensorflow.keras.layers import BatchNormalization"
   ]
  },
  {
   "cell_type": "code",
   "execution_count": 21,
   "metadata": {},
   "outputs": [],
   "source": [
    "pool_size = (4,4)\n",
    "kernel_size = (3,3)\n",
    "\n",
    "x_in = Input(shape = (256, 256, 3))\n",
    "\n",
    "x = Conv2D(filters = 16, kernel_size = kernel_size, activation = 'relu', padding = 'Same')(x_in)\n",
    "x = BatchNormalization()(x)\n",
    "x = MaxPool2D(pool_size = pool_size)(x)\n",
    "\n",
    "x = Conv2D(filters = 32, kernel_size = kernel_size, activation = 'relu', padding = 'Same')(x)\n",
    "x = BatchNormalization()(x)\n",
    "x = Dropout(0.5)(x)\n",
    "x = MaxPool2D(pool_size = pool_size)(x)\n",
    "\n",
    "x = Conv2D(filters = 64, kernel_size = kernel_size, activation = 'relu', padding = 'Same')(x)\n",
    "x = BatchNormalization()(x)\n",
    "x = MaxPool2D(pool_size = pool_size)(x)\n",
    "\n",
    "x = Conv2D(filters = 64, kernel_size = kernel_size, activation = 'relu', padding = 'Same')(x)\n",
    "\n",
    "x_flatten = Flatten()(x)\n",
    "x = Dropout(0.5)(x_flatten)\n",
    "x = Dense(64, activation = 'relu')(x)\n",
    "\n",
    "x_out = Dense(7, activation= 'softmax')(x)"
   ]
  },
  {
   "cell_type": "code",
   "execution_count": 22,
   "metadata": {},
   "outputs": [
    {
     "name": "stdout",
     "output_type": "stream",
     "text": [
      "Model: \"model_2\"\n",
      "_________________________________________________________________\n",
      "Layer (type)                 Output Shape              Param #   \n",
      "=================================================================\n",
      "input_3 (InputLayer)         [(None, 256, 256, 3)]     0         \n",
      "_________________________________________________________________\n",
      "conv2d_7 (Conv2D)            (None, 256, 256, 16)      448       \n",
      "_________________________________________________________________\n",
      "batch_normalization_6 (Batch (None, 256, 256, 16)      64        \n",
      "_________________________________________________________________\n",
      "max_pooling2d_6 (MaxPooling2 (None, 64, 64, 16)        0         \n",
      "_________________________________________________________________\n",
      "conv2d_8 (Conv2D)            (None, 64, 64, 32)        4640      \n",
      "_________________________________________________________________\n",
      "batch_normalization_7 (Batch (None, 64, 64, 32)        128       \n",
      "_________________________________________________________________\n",
      "dropout_3 (Dropout)          (None, 64, 64, 32)        0         \n",
      "_________________________________________________________________\n",
      "max_pooling2d_7 (MaxPooling2 (None, 16, 16, 32)        0         \n",
      "_________________________________________________________________\n",
      "conv2d_9 (Conv2D)            (None, 16, 16, 64)        18496     \n",
      "_________________________________________________________________\n",
      "batch_normalization_8 (Batch (None, 16, 16, 64)        256       \n",
      "_________________________________________________________________\n",
      "max_pooling2d_8 (MaxPooling2 (None, 4, 4, 64)          0         \n",
      "_________________________________________________________________\n",
      "conv2d_10 (Conv2D)           (None, 4, 4, 64)          36928     \n",
      "_________________________________________________________________\n",
      "flatten_2 (Flatten)          (None, 1024)              0         \n",
      "_________________________________________________________________\n",
      "dropout_4 (Dropout)          (None, 1024)              0         \n",
      "_________________________________________________________________\n",
      "dense_4 (Dense)              (None, 64)                65600     \n",
      "_________________________________________________________________\n",
      "dense_5 (Dense)              (None, 7)                 455       \n",
      "=================================================================\n",
      "Total params: 127,015\n",
      "Trainable params: 126,791\n",
      "Non-trainable params: 224\n",
      "_________________________________________________________________\n"
     ]
    }
   ],
   "source": [
    "model = Model(x_in, x_out)\n",
    "model.summary()"
   ]
  },
  {
   "cell_type": "code",
   "execution_count": 23,
   "metadata": {},
   "outputs": [],
   "source": [
    "model.compile(optimizer ='adam',\n",
    "              loss = 'categorical_crossentropy',\n",
    "              metrics = ['acc'])"
   ]
  },
  {
   "cell_type": "code",
   "execution_count": 24,
   "metadata": {},
   "outputs": [
    {
     "name": "stdout",
     "output_type": "stream",
     "text": [
      "Epoch 1/30\n",
      "1336/1336 [==============================] - 246s 184ms/step - loss: 0.9688 - acc: 0.6710 - val_loss: 0.8611 - val_acc: 0.6775\n",
      "Epoch 2/30\n",
      "1336/1336 [==============================] - 239s 179ms/step - loss: 0.8625 - acc: 0.6968 - val_loss: 1.0184 - val_acc: 0.6785\n",
      "Epoch 3/30\n",
      "1336/1336 [==============================] - 238s 178ms/step - loss: 0.8207 - acc: 0.7027 - val_loss: 0.9848 - val_acc: 0.6890\n",
      "Epoch 4/30\n",
      "1336/1336 [==============================] - 241s 180ms/step - loss: 0.7898 - acc: 0.7129 - val_loss: 0.9095 - val_acc: 0.6435\n",
      "Epoch 5/30\n",
      "1336/1336 [==============================] - 369s 276ms/step - loss: 0.7669 - acc: 0.7147 - val_loss: 0.8840 - val_acc: 0.6780\n",
      "Epoch 6/30\n",
      "1336/1336 [==============================] - 346s 259ms/step - loss: 0.7630 - acc: 0.7223 - val_loss: 0.8386 - val_acc: 0.6975\n",
      "Epoch 7/30\n",
      "1336/1336 [==============================] - 239s 179ms/step - loss: 0.7341 - acc: 0.7280 - val_loss: 0.7815 - val_acc: 0.7154\n",
      "Epoch 8/30\n",
      "1336/1336 [==============================] - 238s 178ms/step - loss: 0.7138 - acc: 0.7358 - val_loss: 0.9649 - val_acc: 0.6785\n",
      "Epoch 9/30\n",
      "1336/1336 [==============================] - 239s 179ms/step - loss: 0.6987 - acc: 0.7474 - val_loss: 0.7792 - val_acc: 0.7114\n",
      "Epoch 10/30\n",
      "1336/1336 [==============================] - 254s 190ms/step - loss: 0.7020 - acc: 0.7399 - val_loss: 0.7736 - val_acc: 0.7229\n",
      "Epoch 11/30\n",
      "1336/1336 [==============================] - 260s 194ms/step - loss: 0.6885 - acc: 0.7471 - val_loss: 0.8460 - val_acc: 0.6910\n",
      "Epoch 12/30\n",
      "1336/1336 [==============================] - 264s 197ms/step - loss: 0.6844 - acc: 0.7441 - val_loss: 0.7303 - val_acc: 0.7324\n",
      "Epoch 13/30\n",
      "1336/1336 [==============================] - 263s 197ms/step - loss: 0.6662 - acc: 0.7509 - val_loss: 0.7871 - val_acc: 0.6960\n",
      "Epoch 14/30\n",
      "1336/1336 [==============================] - 250s 187ms/step - loss: 0.6661 - acc: 0.7502 - val_loss: 0.8152 - val_acc: 0.6940\n",
      "Epoch 15/30\n",
      "1336/1336 [==============================] - 243s 182ms/step - loss: 0.6475 - acc: 0.7575 - val_loss: 0.8793 - val_acc: 0.6660\n",
      "Epoch 16/30\n",
      "1336/1336 [==============================] - 240s 179ms/step - loss: 0.6447 - acc: 0.7644 - val_loss: 0.7232 - val_acc: 0.7324\n",
      "Epoch 17/30\n",
      "1336/1336 [==============================] - 242s 181ms/step - loss: 0.6239 - acc: 0.7666 - val_loss: 0.6701 - val_acc: 0.7554\n",
      "Epoch 18/30\n",
      "1336/1336 [==============================] - 243s 182ms/step - loss: 0.6207 - acc: 0.7677 - val_loss: 1.0402 - val_acc: 0.7049\n",
      "Epoch 19/30\n",
      "1336/1336 [==============================] - 244s 183ms/step - loss: 0.6183 - acc: 0.7707 - val_loss: 0.8208 - val_acc: 0.6710\n",
      "Epoch 20/30\n",
      "1336/1336 [==============================] - 243s 182ms/step - loss: 0.6130 - acc: 0.7741 - val_loss: 0.7473 - val_acc: 0.7234\n",
      "Epoch 21/30\n",
      "1336/1336 [==============================] - 245s 183ms/step - loss: 0.5929 - acc: 0.7801 - val_loss: 0.7544 - val_acc: 0.7194\n",
      "Epoch 22/30\n",
      "1336/1336 [==============================] - 245s 184ms/step - loss: 0.5857 - acc: 0.7810 - val_loss: 0.7936 - val_acc: 0.7199\n",
      "Epoch 23/30\n",
      "1336/1336 [==============================] - 246s 184ms/step - loss: 0.5785 - acc: 0.7808 - val_loss: 0.7230 - val_acc: 0.7319\n",
      "Epoch 24/30\n",
      "1336/1336 [==============================] - 244s 183ms/step - loss: 0.5745 - acc: 0.7823 - val_loss: 0.7477 - val_acc: 0.7374\n",
      "Epoch 25/30\n",
      "1336/1336 [==============================] - 245s 184ms/step - loss: 0.5597 - acc: 0.7909 - val_loss: 0.8156 - val_acc: 0.7119\n",
      "Epoch 26/30\n",
      "1336/1336 [==============================] - 255s 191ms/step - loss: 0.5677 - acc: 0.7827 - val_loss: 0.7647 - val_acc: 0.7114\n",
      "Epoch 27/30\n",
      "1336/1336 [==============================] - 249s 187ms/step - loss: 0.5497 - acc: 0.7963 - val_loss: 0.8350 - val_acc: 0.6985\n",
      "Epoch 28/30\n",
      "1336/1336 [==============================] - 257s 192ms/step - loss: 0.5553 - acc: 0.7893 - val_loss: 0.7401 - val_acc: 0.7239\n",
      "Epoch 29/30\n",
      "1336/1336 [==============================] - 256s 192ms/step - loss: 0.5419 - acc: 0.7974 - val_loss: 0.7303 - val_acc: 0.7374\n",
      "Epoch 30/30\n",
      "1336/1336 [==============================] - 246s 184ms/step - loss: 0.5431 - acc: 0.7912 - val_loss: 0.7352 - val_acc: 0.7269\n"
     ]
    },
    {
     "data": {
      "text/plain": [
       "<tensorflow.python.keras.callbacks.History at 0x1c3e177d68>"
      ]
     },
     "execution_count": 24,
     "metadata": {},
     "output_type": "execute_result"
    }
   ],
   "source": [
    "model.fit_generator(\n",
    "    train_gen,\n",
    "    steps_per_epoch = len(train_gen),\n",
    "    epochs = 30,\n",
    "    validation_data = test_gen,\n",
    "    validation_steps = len(test_gen),\n",
    "    workers=4\n",
    ")"
   ]
  },
  {
   "cell_type": "code",
   "execution_count": null,
   "metadata": {},
   "outputs": [],
   "source": [
    "model.evaluate_generator(train_gen)"
   ]
  },
  {
   "cell_type": "code",
   "execution_count": null,
   "metadata": {},
   "outputs": [],
   "source": []
  }
 ],
 "metadata": {
  "kernelspec": {
   "display_name": "Python 3",
   "language": "python",
   "name": "python3"
  },
  "language_info": {
   "codemirror_mode": {
    "name": "ipython",
    "version": 3
   },
   "file_extension": ".py",
   "mimetype": "text/x-python",
   "name": "python",
   "nbconvert_exporter": "python",
   "pygments_lexer": "ipython3",
   "version": "3.7.3"
  },
  "widgets": {
   "application/vnd.jupyter.widget-state+json": {
    "state": {},
    "version_major": 2,
    "version_minor": 0
   }
  }
 },
 "nbformat": 4,
 "nbformat_minor": 2
}
