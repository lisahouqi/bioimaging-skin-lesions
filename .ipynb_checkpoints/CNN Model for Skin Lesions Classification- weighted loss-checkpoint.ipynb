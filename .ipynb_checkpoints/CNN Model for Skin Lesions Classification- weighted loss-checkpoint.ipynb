{
 "cells": [
  {
   "cell_type": "code",
   "execution_count": 1,
   "metadata": {},
   "outputs": [],
   "source": [
    "from skimage.io import imread\n",
    "import matplotlib.pyplot as plt\n",
    "import pandas as pd\n",
    "import os"
   ]
  },
  {
   "cell_type": "code",
   "execution_count": 2,
   "metadata": {},
   "outputs": [
    {
     "data": {
      "text/plain": [
       "['akiec', '.DS_Store', 'df', 'bkl', 'vasc', 'nv', 'bcc', 'mel']"
      ]
     },
     "execution_count": 2,
     "metadata": {},
     "output_type": "execute_result"
    }
   ],
   "source": [
    "os.listdir('/Users/qihou/HAM10000_train')"
   ]
  },
  {
   "cell_type": "code",
   "execution_count": 3,
   "metadata": {},
   "outputs": [
    {
     "data": {
      "text/plain": [
       "['akiec', '.DS_Store', 'df', 'bkl', 'vasc', 'nv', 'bcc', 'mel']"
      ]
     },
     "execution_count": 3,
     "metadata": {},
     "output_type": "execute_result"
    }
   ],
   "source": [
    "os.listdir('/Users/qihou/HAM10000_test')"
   ]
  },
  {
   "cell_type": "code",
   "execution_count": 4,
   "metadata": {},
   "outputs": [],
   "source": [
    "train_dir = '/Users/qihou/HAM10000_train'\n",
    "test_dir = '/Users/qihou/HAM10000_test'"
   ]
  },
  {
   "cell_type": "code",
   "execution_count": 5,
   "metadata": {},
   "outputs": [],
   "source": [
    "import tensorflow as tf\n",
    "from tensorflow.keras.preprocessing.image import ImageDataGenerator"
   ]
  },
  {
   "cell_type": "code",
   "execution_count": 6,
   "metadata": {},
   "outputs": [
    {
     "name": "stdout",
     "output_type": "stream",
     "text": [
      "Found 8012 images belonging to 7 classes.\n",
      "Found 2003 images belonging to 7 classes.\n"
     ]
    }
   ],
   "source": [
    "train_datagen = ImageDataGenerator(rescale = 1/255) \n",
    "test_datagen = ImageDataGenerator(rescale = 1/255)\n",
    "\n",
    "train_gen = train_datagen.flow_from_directory(train_dir, batch_size=6)\n",
    "test_gen = test_datagen.flow_from_directory(test_dir, batch_size=6)"
   ]
  },
  {
   "cell_type": "code",
   "execution_count": 7,
   "metadata": {},
   "outputs": [
    {
     "data": {
      "text/plain": [
       "((6, 256, 256, 3), (6, 7))"
      ]
     },
     "execution_count": 7,
     "metadata": {},
     "output_type": "execute_result"
    }
   ],
   "source": [
    "x, y = next(train_gen)\n",
    "x.shape, y.shape"
   ]
  },
  {
   "cell_type": "code",
   "execution_count": 8,
   "metadata": {},
   "outputs": [
    {
     "data": {
      "text/plain": [
       "{'akiec': 0, 'bcc': 1, 'bkl': 2, 'df': 3, 'mel': 4, 'nv': 5, 'vasc': 6}"
      ]
     },
     "execution_count": 8,
     "metadata": {},
     "output_type": "execute_result"
    }
   ],
   "source": [
    "train_gen.class_indices"
   ]
  },
  {
   "cell_type": "code",
   "execution_count": 9,
   "metadata": {},
   "outputs": [],
   "source": [
    "df = pd.read_csv('/Users/qihou/HAM10000_metadata.csv')"
   ]
  },
  {
   "cell_type": "code",
   "execution_count": 10,
   "metadata": {
    "scrolled": true
   },
   "outputs": [
    {
     "data": {
      "text/html": [
       "<div>\n",
       "<style scoped>\n",
       "    .dataframe tbody tr th:only-of-type {\n",
       "        vertical-align: middle;\n",
       "    }\n",
       "\n",
       "    .dataframe tbody tr th {\n",
       "        vertical-align: top;\n",
       "    }\n",
       "\n",
       "    .dataframe thead th {\n",
       "        text-align: right;\n",
       "    }\n",
       "</style>\n",
       "<table border=\"1\" class=\"dataframe\">\n",
       "  <thead>\n",
       "    <tr style=\"text-align: right;\">\n",
       "      <th></th>\n",
       "      <th>lesion_id</th>\n",
       "      <th>image_id</th>\n",
       "      <th>dx</th>\n",
       "      <th>dx_type</th>\n",
       "      <th>age</th>\n",
       "      <th>sex</th>\n",
       "      <th>localization</th>\n",
       "    </tr>\n",
       "  </thead>\n",
       "  <tbody>\n",
       "    <tr>\n",
       "      <th>0</th>\n",
       "      <td>HAM_0000118</td>\n",
       "      <td>ISIC_0027419</td>\n",
       "      <td>bkl</td>\n",
       "      <td>histo</td>\n",
       "      <td>80.0</td>\n",
       "      <td>male</td>\n",
       "      <td>scalp</td>\n",
       "    </tr>\n",
       "    <tr>\n",
       "      <th>1</th>\n",
       "      <td>HAM_0000118</td>\n",
       "      <td>ISIC_0025030</td>\n",
       "      <td>bkl</td>\n",
       "      <td>histo</td>\n",
       "      <td>80.0</td>\n",
       "      <td>male</td>\n",
       "      <td>scalp</td>\n",
       "    </tr>\n",
       "    <tr>\n",
       "      <th>2</th>\n",
       "      <td>HAM_0002730</td>\n",
       "      <td>ISIC_0026769</td>\n",
       "      <td>bkl</td>\n",
       "      <td>histo</td>\n",
       "      <td>80.0</td>\n",
       "      <td>male</td>\n",
       "      <td>scalp</td>\n",
       "    </tr>\n",
       "    <tr>\n",
       "      <th>3</th>\n",
       "      <td>HAM_0002730</td>\n",
       "      <td>ISIC_0025661</td>\n",
       "      <td>bkl</td>\n",
       "      <td>histo</td>\n",
       "      <td>80.0</td>\n",
       "      <td>male</td>\n",
       "      <td>scalp</td>\n",
       "    </tr>\n",
       "    <tr>\n",
       "      <th>4</th>\n",
       "      <td>HAM_0001466</td>\n",
       "      <td>ISIC_0031633</td>\n",
       "      <td>bkl</td>\n",
       "      <td>histo</td>\n",
       "      <td>75.0</td>\n",
       "      <td>male</td>\n",
       "      <td>ear</td>\n",
       "    </tr>\n",
       "  </tbody>\n",
       "</table>\n",
       "</div>"
      ],
      "text/plain": [
       "     lesion_id      image_id   dx dx_type   age   sex localization\n",
       "0  HAM_0000118  ISIC_0027419  bkl   histo  80.0  male        scalp\n",
       "1  HAM_0000118  ISIC_0025030  bkl   histo  80.0  male        scalp\n",
       "2  HAM_0002730  ISIC_0026769  bkl   histo  80.0  male        scalp\n",
       "3  HAM_0002730  ISIC_0025661  bkl   histo  80.0  male        scalp\n",
       "4  HAM_0001466  ISIC_0031633  bkl   histo  75.0  male          ear"
      ]
     },
     "execution_count": 10,
     "metadata": {},
     "output_type": "execute_result"
    }
   ],
   "source": [
    "df.head()"
   ]
  },
  {
   "cell_type": "code",
   "execution_count": 11,
   "metadata": {},
   "outputs": [],
   "source": [
    "#import keras\n",
    "from tensorflow.keras import Model\n",
    "from tensorflow.keras.layers import Dense, Conv2D, MaxPool2D, Flatten, Input, Dropout\n",
    "from tensorflow.keras.layers import BatchNormalization"
   ]
  },
  {
   "cell_type": "code",
   "execution_count": 67,
   "metadata": {},
   "outputs": [],
   "source": [
    "pool_size = (4,4)\n",
    "kernel_size = (3,3)\n",
    "\n",
    "x_in = Input(shape = (256, 256, 3))\n",
    "\n",
    "x = Conv2D(filters = 16, kernel_size = kernel_size, activation = 'relu', padding = 'Same')(x_in)\n",
    "x = BatchNormalization()(x)\n",
    "x = MaxPool2D(pool_size = pool_size)(x)\n",
    "\n",
    "x = Conv2D(filters = 32, kernel_size = kernel_size, activation = 'relu', padding = 'Same')(x)\n",
    "x = BatchNormalization()(x)\n",
    "x = MaxPool2D(pool_size = pool_size)(x)\n",
    "\n",
    "x = Conv2D(filters = 64, kernel_size = kernel_size, activation = 'relu', padding = 'Same')(x)\n",
    "x = BatchNormalization()(x)\n",
    "x = MaxPool2D(pool_size = pool_size)(x)\n",
    "\n",
    "x_flatten = Flatten()(x)\n",
    "x = Dropout(0.5)(x_flatten)\n",
    "x = Dense(64, activation = 'relu')(x)\n",
    "\n",
    "x_out = Dense(7, activation= 'softmax')(x) "
   ]
  },
  {
   "cell_type": "code",
   "execution_count": 68,
   "metadata": {},
   "outputs": [
    {
     "name": "stdout",
     "output_type": "stream",
     "text": [
      "Model: \"model_4\"\n",
      "_________________________________________________________________\n",
      "Layer (type)                 Output Shape              Param #   \n",
      "=================================================================\n",
      "input_10 (InputLayer)        [(None, 256, 256, 3)]     0         \n",
      "_________________________________________________________________\n",
      "conv2d_38 (Conv2D)           (None, 256, 256, 16)      448       \n",
      "_________________________________________________________________\n",
      "batch_normalization_36 (Batc (None, 256, 256, 16)      64        \n",
      "_________________________________________________________________\n",
      "max_pooling2d_34 (MaxPooling (None, 64, 64, 16)        0         \n",
      "_________________________________________________________________\n",
      "conv2d_39 (Conv2D)           (None, 64, 64, 32)        4640      \n",
      "_________________________________________________________________\n",
      "batch_normalization_37 (Batc (None, 64, 64, 32)        128       \n",
      "_________________________________________________________________\n",
      "max_pooling2d_35 (MaxPooling (None, 16, 16, 32)        0         \n",
      "_________________________________________________________________\n",
      "conv2d_40 (Conv2D)           (None, 16, 16, 64)        18496     \n",
      "_________________________________________________________________\n",
      "batch_normalization_38 (Batc (None, 16, 16, 64)        256       \n",
      "_________________________________________________________________\n",
      "max_pooling2d_36 (MaxPooling (None, 4, 4, 64)          0         \n",
      "_________________________________________________________________\n",
      "flatten_5 (Flatten)          (None, 1024)              0         \n",
      "_________________________________________________________________\n",
      "dropout_13 (Dropout)         (None, 1024)              0         \n",
      "_________________________________________________________________\n",
      "dense_10 (Dense)             (None, 64)                65600     \n",
      "_________________________________________________________________\n",
      "dense_11 (Dense)             (None, 7)                 455       \n",
      "=================================================================\n",
      "Total params: 90,087\n",
      "Trainable params: 89,863\n",
      "Non-trainable params: 224\n",
      "_________________________________________________________________\n"
     ]
    }
   ],
   "source": [
    "model = Model(x_in, x_out)\n",
    "model.summary()"
   ]
  },
  {
   "cell_type": "code",
   "execution_count": 69,
   "metadata": {},
   "outputs": [],
   "source": [
    "model.compile(optimizer ='adam',\n",
    "              loss = 'categorical_crossentropy',\n",
    "              metrics = ['acc'])"
   ]
  },
  {
   "cell_type": "code",
   "execution_count": 84,
   "metadata": {
    "scrolled": false
   },
   "outputs": [
    {
     "name": "stdout",
     "output_type": "stream",
     "text": [
      "Epoch 1/20\n",
      "1336/1336 [==============================] - 353s 264ms/step - loss: 0.5022 - acc: 0.8107 - val_loss: 0.7330 - val_acc: 0.7524\n",
      "Epoch 2/20\n",
      "1336/1336 [==============================] - 355s 266ms/step - loss: 0.4900 - acc: 0.8174 - val_loss: 0.6814 - val_acc: 0.7728\n",
      "Epoch 3/20\n",
      "1336/1336 [==============================] - 343s 256ms/step - loss: 0.4867 - acc: 0.8160 - val_loss: 0.8155 - val_acc: 0.7239\n",
      "Epoch 4/20\n",
      "1336/1336 [==============================] - 347s 260ms/step - loss: 0.4795 - acc: 0.8219 - val_loss: 0.6984 - val_acc: 0.7549\n",
      "Epoch 5/20\n",
      "1336/1336 [==============================] - 349s 261ms/step - loss: 0.4768 - acc: 0.8226 - val_loss: 0.6261 - val_acc: 0.7743\n",
      "Epoch 6/20\n",
      "1336/1336 [==============================] - 350s 262ms/step - loss: 0.4619 - acc: 0.8281 - val_loss: 0.7106 - val_acc: 0.7604\n",
      "Epoch 7/20\n",
      "1336/1336 [==============================] - 348s 261ms/step - loss: 0.4680 - acc: 0.8231 - val_loss: 0.6546 - val_acc: 0.7549\n",
      "Epoch 8/20\n",
      "1336/1336 [==============================] - 342s 256ms/step - loss: 0.4544 - acc: 0.8273 - val_loss: 0.7576 - val_acc: 0.7604\n",
      "Epoch 9/20\n",
      "1336/1336 [==============================] - 278s 208ms/step - loss: 0.4508 - acc: 0.8306 - val_loss: 0.6728 - val_acc: 0.7629\n",
      "Epoch 10/20\n",
      "1336/1336 [==============================] - 247s 185ms/step - loss: 0.4437 - acc: 0.8344 - val_loss: 0.7632 - val_acc: 0.7519\n",
      "Epoch 11/20\n",
      "1336/1336 [==============================] - 249s 186ms/step - loss: 0.4370 - acc: 0.8364 - val_loss: 0.7590 - val_acc: 0.7554\n",
      "Epoch 12/20\n",
      "1336/1336 [==============================] - 254s 190ms/step - loss: 0.4245 - acc: 0.8364 - val_loss: 0.6963 - val_acc: 0.7708\n",
      "Epoch 13/20\n",
      "1336/1336 [==============================] - 254s 190ms/step - loss: 0.4248 - acc: 0.8367 - val_loss: 0.9026 - val_acc: 0.7169\n",
      "Epoch 14/20\n",
      "1336/1336 [==============================] - 255s 191ms/step - loss: 0.4169 - acc: 0.8442 - val_loss: 0.9766 - val_acc: 0.7424\n",
      "Epoch 15/20\n",
      "1336/1336 [==============================] - 248s 186ms/step - loss: 0.4186 - acc: 0.8440 - val_loss: 0.6190 - val_acc: 0.7778\n",
      "Epoch 16/20\n",
      "1336/1336 [==============================] - 245s 183ms/step - loss: 0.4072 - acc: 0.8469 - val_loss: 0.8554 - val_acc: 0.7394\n",
      "Epoch 17/20\n",
      "1336/1336 [==============================] - 299s 224ms/step - loss: 0.4094 - acc: 0.8430 - val_loss: 0.6673 - val_acc: 0.7758\n",
      "Epoch 18/20\n",
      "1336/1336 [==============================] - 353s 264ms/step - loss: 0.4070 - acc: 0.8522 - val_loss: 0.9251 - val_acc: 0.7369\n",
      "Epoch 19/20\n",
      "1336/1336 [==============================] - 330s 247ms/step - loss: 0.3946 - acc: 0.8476 - val_loss: 0.8115 - val_acc: 0.7464\n",
      "Epoch 20/20\n",
      "1336/1336 [==============================] - 250s 187ms/step - loss: 0.3941 - acc: 0.8494 - val_loss: 0.6619 - val_acc: 0.7733\n"
     ]
    }
   ],
   "source": [
    "history = model.fit_generator(\n",
    "    train_gen,\n",
    "    steps_per_epoch = len(train_gen),\n",
    "    epochs = 20,\n",
    "    validation_data = test_gen,\n",
    "    validation_steps = len(test_gen),\n",
    "    workers=4\n",
    ")"
   ]
  },
  {
   "cell_type": "code",
   "execution_count": 85,
   "metadata": {},
   "outputs": [],
   "source": [
    "loss, acc = model.evaluate_generator(test_gen)"
   ]
  },
  {
   "cell_type": "code",
   "execution_count": 86,
   "metadata": {},
   "outputs": [],
   "source": [
    "loss_train, acc_train = model.evaluate_generator(train_gen)"
   ]
  },
  {
   "cell_type": "code",
   "execution_count": 87,
   "metadata": {
    "scrolled": true
   },
   "outputs": [
    {
     "data": {
      "text/plain": [
       "(0.27698376868529306, 0.8962806)"
      ]
     },
     "execution_count": 87,
     "metadata": {},
     "output_type": "execute_result"
    }
   ],
   "source": [
    "loss_train, acc_train"
   ]
  },
  {
   "cell_type": "code",
   "execution_count": 88,
   "metadata": {},
   "outputs": [
    {
     "data": {
      "text/plain": [
       "(0.6618561749339583, 0.77334)"
      ]
     },
     "execution_count": 88,
     "metadata": {},
     "output_type": "execute_result"
    }
   ],
   "source": [
    "loss_test, acc_test"
   ]
  },
  {
   "cell_type": "code",
   "execution_count": 75,
   "metadata": {},
   "outputs": [
    {
     "data": {
      "text/plain": [
       "((6, 256, 256, 3), (6, 7))"
      ]
     },
     "execution_count": 75,
     "metadata": {},
     "output_type": "execute_result"
    }
   ],
   "source": [
    "x, y = next(test_gen)\n",
    "x.shape, y.shape"
   ]
  },
  {
   "cell_type": "code",
   "execution_count": 76,
   "metadata": {},
   "outputs": [],
   "source": [
    "y = model.predict(x)"
   ]
  },
  {
   "cell_type": "code",
   "execution_count": 80,
   "metadata": {},
   "outputs": [
    {
     "data": {
      "text/plain": [
       "array([6.7488679e-07, 3.7248301e-05, 1.1395289e-05, 2.0914246e-08,\n",
       "       8.9789595e-05, 9.9983919e-01, 2.1721995e-05], dtype=float32)"
      ]
     },
     "execution_count": 80,
     "metadata": {},
     "output_type": "execute_result"
    }
   ],
   "source": [
    "y[4]"
   ]
  },
  {
   "cell_type": "code",
   "execution_count": 94,
   "metadata": {},
   "outputs": [
    {
     "data": {
      "image/png": "[encoded data removed]",
      "text/plain": [
       "<Figure size 432x288 with 2 Axes>"
      ]
     },
     "metadata": {
      "needs_background": "light"
     },
     "output_type": "display_data"
    }
   ],
   "source": [
    "fig, ax = plt.subplots(2,1)\n",
    "ax[0].plot(history.history['loss'], color='b', label=\"Training loss\")\n",
    "ax[0].plot(history.history['val_loss'], color='r', label=\"Validation loss\",axes =ax[0])\n",
    "legend = ax[0].legend(loc='best', shadow=True)\n",
    "\n",
    "ax[1].plot(history.history['acc'], color='b', label=\"Training accuracy\")\n",
    "ax[1].plot(history.history['val_acc'], color='r',label=\"Validation accuracy\")\n",
    "legend = ax[1].legend(loc='upper left', shadow=True)"
   ]
  },
  {
   "cell_type": "code",
   "execution_count": null,
   "metadata": {},
   "outputs": [],
   "source": []
  }
 ],
 "metadata": {
  "kernelspec": {
   "display_name": "Python 3",
   "language": "python",
   "name": "python3"
  },
  "language_info": {
   "codemirror_mode": {
    "name": "ipython",
    "version": 3
   },
   "file_extension": ".py",
   "mimetype": "text/x-python",
   "name": "python",
   "nbconvert_exporter": "python",
   "pygments_lexer": "ipython3",
   "version": "3.7.3"
  },
  "widgets": {
   "application/vnd.jupyter.widget-state+json": {
    "state": {},
    "version_major": 2,
    "version_minor": 0
   }
  }
 },
 "nbformat": 4,
 "nbformat_minor": 2
}
